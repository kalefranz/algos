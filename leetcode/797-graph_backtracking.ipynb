{
 "cells": [
  {
   "cell_type": "code",
   "execution_count": 8,
   "id": "7b2d3f31-4657-45e1-8240-33c4c0abcbdc",
   "metadata": {},
   "outputs": [],
   "source": [
    "from collections import deque\n",
    "from itertools import *\n",
    "from pprint import pprint\n",
    "from typing import *\n",
    "import networkx as nx\n",
    "import matplotlib.pyplot as plt"
   ]
  },
  {
   "cell_type": "code",
   "execution_count": 4,
   "id": "4b9f15f9-4013-47d3-8c5e-c7d6ae7b688b",
   "metadata": {},
   "outputs": [],
   "source": [
    "class Solution:\n",
    "    def allPathsSourceTarget_from1048(self, graph: List[List[int]]) -> List[List[int]]:\n",
    "        def chain(vertex):\n",
    "            stack = []\n",
    "            stack.append([vertex])\n",
    "            while stack:\n",
    "                children = graph[stack[-1][-1]]\n",
    "                if children:\n",
    "                    stack.append(list(children))\n",
    "                else:\n",
    "                    # dump last element of entire stack, and then back up to next available branch\n",
    "                    c = [s[-1] for s in stack]\n",
    "                    yield c\n",
    "                    while stack:\n",
    "                        if len(stack[-1]) > 1:\n",
    "                            stack[-1].pop()\n",
    "                            break\n",
    "                        else:\n",
    "                            stack.pop()\n",
    "        return list(chain(0))\n",
    "\n",
    "    def allPathsSourceTarget_helpFromOfficialBacktrackingSolution(self, graph: List[List[int]]) -> List[List[int]]:\n",
    "        target = len(graph) - 1\n",
    "        results = []\n",
    "\n",
    "        def backtrack(curr_node, path):\n",
    "            if curr_node == target:\n",
    "                results.append(list(path))\n",
    "                return\n",
    "            for next_node in graph[curr_node]:\n",
    "                path.append(next_node)\n",
    "                backtrack(next_node, path)\n",
    "                path.pop()\n",
    "\n",
    "        path = deque([0])\n",
    "        backtrack(0, path)\n",
    "\n",
    "        return results\n"
   ]
  },
  {
   "cell_type": "code",
   "execution_count": 5,
   "id": "f9fe58ab-2520-46ea-ac92-03ff2973c4b7",
   "metadata": {},
   "outputs": [],
   "source": [
    "TEST_CALL = Solution().allPathsSourceTarget_helpFromOfficialBacktrackingSolution\n",
    "CASES = (\n",
    "    # ## expected, *input_args\n",
    "    ([[0,1,3],[0,2,3]], [[1,2],[3],[3],[]]),\n",
    "    ([[0,4],[0,3,4],[0,1,3,4],[0,1,2,3,4],[0,1,4]], [[4,3,1],[3,2,4],[3],[4],[]]),\n",
    "    (\n",
    "        [[0,3,6,7],[0,3,4,7],[0,3,4,6,7],[0,3,4,5,6,7],[0,1,4,7],[0,1,4,6,7],[0,1,4,5,6,7],[0,1,6,7],[0,1,7],[0,1,2,4,7],[0,1,2,4,6,7],[0,1,2,4,5,6,7],[0,1,2,6,7],[0,1,2,3,6,7],[0,1,2,3,4,7],[0,1,2,3,4,6,7],[0,1,2,3,4,5,6,7],[0,1,5,6,7]],\n",
    "        [[3,1],[4,6,7,2,5],[4,6,3],[6,4],[7,6,5],[6],[7],[]],\n",
    "    ),\n",
    "    (\n",
    "        [[0,4],[0,3,4],[0,1,3,4],[0,1,4]],\n",
    "        [[4,3,1],[3,2,4],[],[4],[]],\n",
    "    ),\n",
    ")\n",
    "def test(*test_nums):\n",
    "    cases = test_nums and [CASES[num] for num in test_nums] or CASES\n",
    "\n",
    "    failed = 0\n",
    "    for q, (expected, *input_args) in enumerate(cases):\n",
    "        result = TEST_CALL(*input_args)\n",
    "        pprint(result)\n",
    "        result = list(sorted(set(map(tuple, result))))\n",
    "        expected = list(sorted(set(map(tuple, expected))))\n",
    "\n",
    "        if result == expected:\n",
    "            print(f\"{q}: passed\")\n",
    "        else:\n",
    "            print(f\"{q}: FAILED\")\n",
    "            failed += 1\n",
    "        print(input_args[0])\n",
    "        print(\"  {0:^25}    {1:^25}\".format(\"expected:\", \"result:\"))\n",
    "        print(\"\\n\".join(f\"  {str(e):>25}    {str(r):>25}\" for e, r in zip_longest(expected, result)))\n",
    "\n",
    "    if failed:\n",
    "        print(f\"FAILED: {failed}\")\n",
    "    else:\n",
    "        print(f\"SUCCESS: TESTS PASSED == {len(cases)}\")"
   ]
  },
  {
   "cell_type": "code",
   "execution_count": 7,
   "id": "119b4cd8-74d4-450f-86e9-6529c5b05fff",
   "metadata": {},
   "outputs": [
    {
     "name": "stdout",
     "output_type": "stream",
     "text": [
      "[[0, 1, 3], [0, 2, 3]]\n",
      "0: passed\n",
      "[[1, 2], [3], [3], []]\n",
      "          expected:                     result:         \n",
      "                  (0, 1, 3)                    (0, 1, 3)\n",
      "                  (0, 2, 3)                    (0, 2, 3)\n",
      "SUCCESS: TESTS PASSED == 1\n"
     ]
    }
   ],
   "source": [
    "test(0)"
   ]
  },
  {
   "cell_type": "code",
   "execution_count": 16,
   "id": "ba91cbff-4c23-44e2-b564-397fc6615529",
   "metadata": {},
   "outputs": [
    {
     "name": "stdout",
     "output_type": "stream",
     "text": [
      "[[4, 3, 1], [3, 2, 4], [], [4], []]\n",
      "(0, 4)\n",
      "(0, 3)\n",
      "(0, 1)\n",
      "(1, 3)\n",
      "(1, 2)\n",
      "(1, 4)\n",
      "(3, 4)\n"
     ]
    },
    {
     "data": {
      "image/png": "[encoded data removed]",
      "text/plain": [
       "<Figure size 432x288 with 1 Axes>"
      ]
     },
     "metadata": {},
     "output_type": "display_data"
    }
   ],
   "source": [
    "graph3 = CASES[3][1]\n",
    "print(graph3)\n",
    "\n",
    "G2 = nx.Graph()\n",
    "for node, edges in enumerate(graph3):\n",
    "    for edge in edges:\n",
    "        print((node, edge))\n",
    "        G2.add_edge(node, edge)\n",
    "\n",
    "# # explicitly set positions\n",
    "# pos = {1: (0, 0), 2: (-1, 0.3), 3: (2, 0.17), 4: (4, 0.255), 5: (5, 0.03)}\n",
    "\n",
    "options = {\n",
    "    \"font_size\": 36,\n",
    "    \"node_size\": 3000,\n",
    "    \"node_color\": \"white\",\n",
    "    \"edgecolors\": \"black\",\n",
    "    \"linewidths\": 5,\n",
    "    \"width\": 5,\n",
    "}\n",
    "nx.draw_networkx(G, **options)  # pos, \n",
    "\n",
    "# Set margins for the axes so that nodes aren't clipped\n",
    "ax = plt.gca()\n",
    "ax.margins(0.20)\n",
    "plt.axis(\"off\")\n",
    "plt.show()"
   ]
  },
  {
   "cell_type": "code",
   "execution_count": 9,
   "id": "4c68431f-cec4-480d-9324-2cc298ef2884",
   "metadata": {},
   "outputs": [
    {
     "data": {
      "image/png": "[encoded data removed]",
      "text/plain": [
       "<Figure size 432x288 with 1 Axes>"
      ]
     },
     "metadata": {},
     "output_type": "display_data"
    }
   ],
   "source": [
    "\n",
    "G = nx.Graph()\n",
    "G.add_edge(1, 2)\n",
    "G.add_edge(1, 3)\n",
    "G.add_edge(1, 5)\n",
    "G.add_edge(2, 3)\n",
    "G.add_edge(3, 4)\n",
    "G.add_edge(4, 5)\n",
    "\n",
    "# explicitly set positions\n",
    "pos = {1: (0, 0), 2: (-1, 0.3), 3: (2, 0.17), 4: (4, 0.255), 5: (5, 0.03)}\n",
    "\n",
    "options = {\n",
    "    \"font_size\": 36,\n",
    "    \"node_size\": 3000,\n",
    "    \"node_color\": \"white\",\n",
    "    \"edgecolors\": \"black\",\n",
    "    \"linewidths\": 5,\n",
    "    \"width\": 5,\n",
    "}\n",
    "nx.draw_networkx(G, pos, **options)\n",
    "\n",
    "# Set margins for the axes so that nodes aren't clipped\n",
    "ax = plt.gca()\n",
    "ax.margins(0.20)\n",
    "plt.axis(\"off\")\n",
    "plt.show()"
   ]
  },
  {
   "cell_type": "code",
   "execution_count": null,
   "id": "52899e26-3a52-457c-b6e8-106ffb088dc1",
   "metadata": {},
   "outputs": [],
   "source": []
  }
 ],
 "metadata": {
  "kernelspec": {
   "display_name": "Python 3 (ipykernel)",
   "language": "python",
   "name": "python3"
  },
  "language_info": {
   "codemirror_mode": {
    "name": "ipython",
    "version": 3
   },
   "file_extension": ".py",
   "mimetype": "text/x-python",
   "name": "python",
   "nbconvert_exporter": "python",
   "pygments_lexer": "ipython3",
   "version": "3.10.2"
  }
 },
 "nbformat": 4,
 "nbformat_minor": 5
}
